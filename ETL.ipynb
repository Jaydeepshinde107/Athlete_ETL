{
 "cells": [
  {
   "cell_type": "code",
   "execution_count": 3,
   "id": "f6ad2ea9",
   "metadata": {},
   "outputs": [],
   "source": [
    "# Intialization\n",
    "import os\n",
    "import sys\n",
    "\n",
    "os.environ[\"SPARK_HOME\"] = \"/home/talentum/spark\"\n",
    "os.environ[\"PYLIB\"] = os.environ[\"SPARK_HOME\"] + \"/python/lib\"\n",
    "# In below two lines, use /usr/bin/python2.7 if you want to use Python 2\n",
    "os.environ[\"PYSPARK_PYTHON\"] = \"/usr/bin/python3.6\" \n",
    "os.environ[\"PYSPARK_DRIVER_PYTHON\"] = \"/usr/bin/python3\"\n",
    "sys.path.insert(0, os.environ[\"PYLIB\"] +\"/py4j-0.10.7-src.zip\")\n",
    "sys.path.insert(0, os.environ[\"PYLIB\"] +\"/pyspark.zip\")\n",
    "\n",
    "# NOTE: Whichever package you want mention here.\n",
    "# os.environ['PYSPARK_SUBMIT_ARGS'] = '--packages com.databricks:spark-xml_2.11:0.6.0 pyspark-shell' \n",
    "# os.environ['PYSPARK_SUBMIT_ARGS'] = '--packages org.apache.spark:spark-avro_2.11:2.4.0 pyspark-shell'\n",
    "os.environ['PYSPARK_SUBMIT_ARGS'] = '--packages com.databricks:spark-xml_2.11:0.6.0,org.apache.spark:spark-avro_2.11:2.4.3 pyspark-shell'\n",
    "# os.environ['PYSPARK_SUBMIT_ARGS'] = '--packages com.databricks:spark-xml_2.11:0.6.0,org.apache.spark:spark-avro_2.11:2.4.0 pyspark-shell''"
   ]
  },
  {
   "cell_type": "code",
   "execution_count": 4,
   "id": "43c927da",
   "metadata": {},
   "outputs": [],
   "source": [
    "#Entrypoint 2.x\n",
    "from pyspark.sql import SparkSession\n",
    "spark = SparkSession.builder.appName(\"Data cleaning\").enableHiveSupport().getOrCreate()\n",
    "\n",
    "# On yarn:\n",
    "# spark = SparkSession.builder.appName(\"Spark SQL basic example\").enableHiveSupport().master(\"yarn\").getOrCreate()\n",
    "# specify .master(\"yarn\")\n",
    "\n",
    "sc = spark.sparkContext"
   ]
  },
  {
   "cell_type": "code",
   "execution_count": 7,
   "id": "557ab54c",
   "metadata": {},
   "outputs": [],
   "source": [
    "from docutils.nodes import header\n",
    "from pyspark.sql import SparkSession\n",
    "from pyspark.sql.types import StructType, StructField, IntegerType, StringType, FloatType\n",
    "from pyspark.sql.functions import col, regexp_replace, split, round\n",
    "\n",
    "spark = SparkSession.builder.appName(\"ETL\").enableHiveSupport().getOrCreate()"
   ]
  },
  {
   "cell_type": "code",
   "execution_count": 8,
   "id": "dbfe133f",
   "metadata": {},
   "outputs": [],
   "source": [
    "# -----------------   write data from local, into HDFS   -----------------------------------\n",
    "\n",
    "# Define the local file path and the HDFS path\n",
    "local_athlete = \"file:///home/talentum/MiniProject/athlete_events.csv\"\n",
    "hdfs_athlete = \"athlete_events.csv\"\n",
    "\n",
    "local_winners = \"file:///home/talentum/MiniProject/Winners.csv\"\n",
    "hdfs_winners = \"Winners.csv\"\n",
    "\n",
    "local_noc = \"file:///home/talentum/MiniProject/noc_regions.csv\"\n",
    "hdfs_noc = \"noc.csv\""
   ]
  },
  {
   "cell_type": "code",
   "execution_count": 10,
   "id": "d0f91deb",
   "metadata": {},
   "outputs": [],
   "source": [
    "athlete_schema = StructType([\n",
    "    StructField(\"ID\", IntegerType(), True),\n",
    "    StructField(\"Name\", StringType(), True),\n",
    "    StructField(\"Sex\", StringType(), True),\n",
    "    StructField(\"Age\", FloatType(), True),\n",
    "    StructField(\"Height\", FloatType(), True),\n",
    "    StructField(\"Weight\", FloatType(), True),\n",
    "    StructField(\"Team\", StringType(), True),\n",
    "    StructField(\"Games\", StringType(), True),\n",
    "    StructField(\"City\", StringType(), True),\n",
    "    StructField(\"Sport\", StringType(), True),\n",
    "    StructField(\"Event\", StringType(), True),\n",
    "])\n"
   ]
  },
  {
   "cell_type": "code",
   "execution_count": 11,
   "id": "2f479dd9",
   "metadata": {},
   "outputs": [],
   "source": [
    "winners_schema = StructType([\n",
    "    StructField(\"ID\", IntegerType(), True),\n",
    "    StructField(\"Name\", StringType(), True),\n",
    "    StructField(\"Team\", StringType(), True),\n",
    "    StructField(\"Games\", StringType (), True),\n",
    "    StructField(\"Sport\", StringType(), True),\n",
    "    StructField(\"Event\", StringType(), True),\n",
    "    StructField(\"Medal\", StringType(), True)\n",
    "])"
   ]
  },
  {
   "cell_type": "code",
   "execution_count": 12,
   "id": "45f28359",
   "metadata": {},
   "outputs": [],
   "source": [
    "noc_schema = StructType([\n",
    "    StructField(\"NOC\", StringType(), True),\n",
    "    StructField(\"region\", StringType(), True),\n",
    "    StructField(\"notes\", StringType(), True)\n",
    "])"
   ]
  },
  {
   "cell_type": "code",
   "execution_count": 13,
   "id": "d6962dd4",
   "metadata": {},
   "outputs": [],
   "source": [
    "# Reading the CSV file from the local filesystem\n",
    "localdf_athlete = spark.read.csv(local_athlete, header=True, schema=athlete_schema)\n",
    "local_df_winners = spark.read.csv(local_winners, header=True, schema=winners_schema)\n",
    "local_df_noc = spark.read.csv(local_noc, header=True, schema=noc_schema)"
   ]
  },
  {
   "cell_type": "code",
   "execution_count": 15,
   "id": "35f9d9a3",
   "metadata": {},
   "outputs": [],
   "source": [
    "# Coalesce to a single file\n",
    "localdf_athlete = localdf_athlete.coalesce(1)\n",
    "local_df_winners = local_df_winners.coalesce(1)\n",
    "local_df_noc = local_df_noc.coalesce(1)"
   ]
  },
  {
   "cell_type": "code",
   "execution_count": 16,
   "id": "8c742281",
   "metadata": {},
   "outputs": [],
   "source": [
    "# Write to HDFS\n",
    "localdf_athlete.write.mode('overwrite').parquet(hdfs_athlete)\n",
    "local_df_winners.write.mode('overwrite').parquet(hdfs_winners)\n",
    "local_df_noc.write.mode('overwrite').parquet(hdfs_noc)\n"
   ]
  },
  {
   "cell_type": "code",
   "execution_count": 17,
   "id": "a422ad26",
   "metadata": {},
   "outputs": [],
   "source": [
    "# -----------------   reading data from HDFS    --------------------------------\n",
    "\n",
    "# Read the Parquet files from HDFS\n",
    "df_athlete = spark.read.schema(athlete_schema).parquet(hdfs_athlete)\n",
    "df_winners = spark.read.schema(winners_schema).parquet(hdfs_winners)\n",
    "df_noc = spark.read.schema(noc_schema).parquet(hdfs_noc)"
   ]
  },
  {
   "cell_type": "code",
   "execution_count": 18,
   "id": "c5099c13",
   "metadata": {},
   "outputs": [],
   "source": [
    "# -----------------   splitting athlete    ---------------------------------\n",
    "\n",
    "## splitting columns\n",
    "df_athlete = df_athlete.withColumn('Year', split(df_athlete['Games'], ' ').getItem(0)) \\\n",
    "    .withColumn('Season', split(df_athlete['Games'], ' ').getItem(1))"
   ]
  },
  {
   "cell_type": "code",
   "execution_count": 19,
   "id": "2ad6979a",
   "metadata": {},
   "outputs": [],
   "source": [
    "# -----------------   formatting athlete into km, m, etc    ---------------------------------\n",
    "\n",
    "# Replacement rules\n",
    "replacements = {\n",
    "    'kilometres': 'km',\n",
    "    'kilometers': 'km',\n",
    "    'metres': 'm',\n",
    "    'meters': 'm'\n",
    "}\n",
    "\n",
    "for old, new in replacements.items():\n",
    "    df_athlete = df_athlete.withColumn(\"Event\", regexp_replace(col(\"Event\"), old, new))"
   ]
  },
  {
   "cell_type": "code",
   "execution_count": 20,
   "id": "56b2ee59",
   "metadata": {},
   "outputs": [],
   "source": [
    "# -----------------   Calculate BMI    ---------------------------------\n",
    "\n",
    "df_athlete = df_athlete.withColumn(\"BMI\", round(col(\"Weight\") / (col(\"Height\") / 100) ** 2, 2))\n",
    "df_athlete = df_athlete.withColumn(\"BMI\", round(col(\"Weight\") / (col(\"Height\") / 100) ** 2, 2).cast(FloatType()))"
   ]
  },
  {
   "cell_type": "code",
   "execution_count": 21,
   "id": "731c9aa4",
   "metadata": {},
   "outputs": [
    {
     "name": "stdout",
     "output_type": "stream",
     "text": [
      "+---+------------------------+--------------+-----------+----------+------+\n",
      "|ID |Name                    |Team          |Games      |Sport     |Medal |\n",
      "+---+------------------------+--------------+-----------+----------+------+\n",
      "|4  |Edgar Lindenau Aabye    |Denmark/Sweden|1900 Summer|Tug-Of-War|Gold  |\n",
      "|15 |Arvo Ossian Aaltonen    |Finland       |1920 Summer|Swimming  |Bronze|\n",
      "|15 |Arvo Ossian Aaltonen    |Finland       |1920 Summer|Swimming  |Bronze|\n",
      "|15 |Arvo Ossian Aaltonen    |Finland       |1920 Summer|Swimming  |Bronze|\n",
      "|15 |Arvo Ossian Aaltonen    |Finland       |1920 Summer|Swimming  |Bronze|\n",
      "|15 |Arvo Ossian Aaltonen    |Finland       |1920 Summer|Swimming  |Bronze|\n",
      "|15 |Arvo Ossian Aaltonen    |Finland       |1920 Summer|Swimming  |Bronze|\n",
      "|15 |Arvo Ossian Aaltonen    |Finland       |1920 Summer|Swimming  |Bronze|\n",
      "|15 |Arvo Ossian Aaltonen    |Finland       |1920 Summer|Swimming  |Bronze|\n",
      "|15 |Arvo Ossian Aaltonen    |Finland       |1920 Summer|Swimming  |Bronze|\n",
      "|15 |Arvo Ossian Aaltonen    |Finland       |1920 Summer|Swimming  |Bronze|\n",
      "|16 |Juhamatti Tapio Aaltonen|Finland       |2014 Winter|Ice Hockey|Bronze|\n",
      "|17 |Paavo Johannes Aaltonen |Finland       |1952 Summer|Gymnastics|Bronze|\n",
      "|17 |Paavo Johannes Aaltonen |Finland       |1948 Summer|Gymnastics|Gold  |\n",
      "|17 |Paavo Johannes Aaltonen |Finland       |1948 Summer|Gymnastics|Gold  |\n",
      "|17 |Paavo Johannes Aaltonen |Finland       |1948 Summer|Gymnastics|Gold  |\n",
      "|17 |Paavo Johannes Aaltonen |Finland       |1948 Summer|Gymnastics|Bronze|\n",
      "|17 |Paavo Johannes Aaltonen |Finland       |1952 Summer|Gymnastics|Bronze|\n",
      "|17 |Paavo Johannes Aaltonen |Finland       |1948 Summer|Gymnastics|Gold  |\n",
      "|17 |Paavo Johannes Aaltonen |Finland       |1948 Summer|Gymnastics|Gold  |\n",
      "+---+------------------------+--------------+-----------+----------+------+\n",
      "only showing top 20 rows\n",
      "\n"
     ]
    }
   ],
   "source": [
    "# -----------------   Join athlete_events with winners    ---------------------------------\n",
    "\n",
    "# Perform an inner join on 'ID' and 'Event' to combine athlete and winner data\n",
    "df_selected = df_athlete.join(df_winners, [\"ID\"], \"inner\") \\\n",
    "    .select(\n",
    "        df_athlete.ID,\n",
    "        df_athlete.Name,\n",
    "        df_winners.Team,\n",
    "        df_winners.Games,\n",
    "        df_winners.Sport,\n",
    "        df_winners.Medal\n",
    "    ).show(truncate=False)"
   ]
  },
  {
   "cell_type": "code",
   "execution_count": 22,
   "id": "cc2271ea",
   "metadata": {},
   "outputs": [
    {
     "name": "stdout",
     "output_type": "stream",
     "text": [
      "+---+--------------------------------------+--------------------+---+-----------+\n",
      "|ID |Name                                  |Sport               |NOC|region     |\n",
      "+---+--------------------------------------+--------------------+---+-----------+\n",
      "|1  |A Dijiang                             |Basketball          |HKG|China      |\n",
      "|1  |A Dijiang                             |Basketball          |CHN|China      |\n",
      "|2  |A Lamusi                              |Judo                |HKG|China      |\n",
      "|2  |A Lamusi                              |Judo                |CHN|China      |\n",
      "|3  |Gunnar Nielsen Aaby                   |Football            |DEN|Denmark    |\n",
      "|5  |Christine Jacoba Aaftink              |Speed Skating       |NED|Netherlands|\n",
      "|5  |Christine Jacoba Aaftink              |Speed Skating       |NED|Netherlands|\n",
      "|5  |Christine Jacoba Aaftink              |Speed Skating       |NED|Netherlands|\n",
      "|5  |Christine Jacoba Aaftink              |Speed Skating       |NED|Netherlands|\n",
      "|5  |Christine Jacoba Aaftink              |Speed Skating       |NED|Netherlands|\n",
      "|5  |Christine Jacoba Aaftink              |Speed Skating       |NED|Netherlands|\n",
      "|8  |\"Cornelia \"\"Cor\"\" Aalten (-Strannood)\"|Athletics           |NED|Netherlands|\n",
      "|8  |\"Cornelia \"\"Cor\"\" Aalten (-Strannood)\"|Athletics           |NED|Netherlands|\n",
      "|9  |Antti Sami Aalto                      |Ice Hockey          |FIN|Finland    |\n",
      "|10 |\"Einar Ferdinand \"\"Einari\"\" Aalto\"    |Swimming            |FIN|Finland    |\n",
      "|11 |Jorma Ilmari Aalto                    |Cross Country Skiing|FIN|Finland    |\n",
      "|12 |Jyri Tapani Aalto                     |Badminton           |FIN|Finland    |\n",
      "|13 |Minna Maarit Aalto                    |Sailing             |FIN|Finland    |\n",
      "|13 |Minna Maarit Aalto                    |Sailing             |FIN|Finland    |\n",
      "|14 |Pirjo Hannele Aalto (Mattila-)        |Biathlon            |FIN|Finland    |\n",
      "+---+--------------------------------------+--------------------+---+-----------+\n",
      "only showing top 20 rows\n",
      "\n"
     ]
    }
   ],
   "source": [
    "# -----------------   Joining athlete_events with noc    ---------------------------------\n",
    "\n",
    "df_joined_noc = df_athlete.join(df_noc, df_athlete.Team == df_noc.region, \"inner\") \\\n",
    "    .select(df_athlete.ID, df_athlete.Name, df_athlete.Sport, df_noc.NOC, df_noc.region).show(truncate=False)"
   ]
  },
  {
   "cell_type": "code",
   "execution_count": 23,
   "id": "6a501c67",
   "metadata": {},
   "outputs": [
    {
     "name": "stdout",
     "output_type": "stream",
     "text": [
      "+---+------------------------+---+----+------+------+--------------+-----------+-----------+--------------------+-------------------------------------------+----+------+-----+\n",
      "|ID |Name                    |Sex|Age |Height|Weight|Team          |Games      |City       |Sport               |Event                                      |Year|Season|BMI  |\n",
      "+---+------------------------+---+----+------+------+--------------+-----------+-----------+--------------------+-------------------------------------------+----+------+-----+\n",
      "|1  |A Dijiang               |M  |24.0|180.0 |80.0  |China         |1992 Summer|Barcelona  |Basketball          |Basketball Men's Basketball                |1992|Summer|24.69|\n",
      "|2  |A Lamusi                |M  |23.0|170.0 |60.0  |China         |2012 Summer|London     |Judo                |Judo Men's Extra-Lightweight               |2012|Summer|20.76|\n",
      "|3  |Gunnar Nielsen Aaby     |M  |24.0|null  |null  |Denmark       |1920 Summer|Antwerpen  |Football            |Football Men's Football                    |1920|Summer|null |\n",
      "|4  |Edgar Lindenau Aabye    |M  |34.0|null  |null  |Denmark/Sweden|1900 Summer|Paris      |Tug-Of-War          |Tug-Of-War Men's Tug-Of-War                |1900|Summer|null |\n",
      "|5  |Christine Jacoba Aaftink|F  |21.0|185.0 |82.0  |Netherlands   |1988 Winter|Calgary    |Speed Skating       |Speed Skating Women's 500 m                |1988|Winter|23.96|\n",
      "|5  |Christine Jacoba Aaftink|F  |21.0|185.0 |82.0  |Netherlands   |1988 Winter|Calgary    |Speed Skating       |Speed Skating Women's 1,000 m              |1988|Winter|23.96|\n",
      "|5  |Christine Jacoba Aaftink|F  |25.0|185.0 |82.0  |Netherlands   |1992 Winter|Albertville|Speed Skating       |Speed Skating Women's 500 m                |1992|Winter|23.96|\n",
      "|5  |Christine Jacoba Aaftink|F  |25.0|185.0 |82.0  |Netherlands   |1992 Winter|Albertville|Speed Skating       |Speed Skating Women's 1,000 m              |1992|Winter|23.96|\n",
      "|5  |Christine Jacoba Aaftink|F  |27.0|185.0 |82.0  |Netherlands   |1994 Winter|Lillehammer|Speed Skating       |Speed Skating Women's 500 m                |1994|Winter|23.96|\n",
      "|5  |Christine Jacoba Aaftink|F  |27.0|185.0 |82.0  |Netherlands   |1994 Winter|Lillehammer|Speed Skating       |Speed Skating Women's 1,000 m              |1994|Winter|23.96|\n",
      "|6  |Per Knut Aaland         |M  |31.0|188.0 |75.0  |United States |1992 Winter|Albertville|Cross Country Skiing|Cross Country Skiing Men's 10 km           |1992|Winter|21.22|\n",
      "|6  |Per Knut Aaland         |M  |31.0|188.0 |75.0  |United States |1992 Winter|Albertville|Cross Country Skiing|Cross Country Skiing Men's 50 km           |1992|Winter|21.22|\n",
      "|6  |Per Knut Aaland         |M  |31.0|188.0 |75.0  |United States |1992 Winter|Albertville|Cross Country Skiing|Cross Country Skiing Men's 10/15 km Pursuit|1992|Winter|21.22|\n",
      "|6  |Per Knut Aaland         |M  |31.0|188.0 |75.0  |United States |1992 Winter|Albertville|Cross Country Skiing|Cross Country Skiing Men's 4 x 10 km Relay |1992|Winter|21.22|\n",
      "|6  |Per Knut Aaland         |M  |33.0|188.0 |75.0  |United States |1994 Winter|Lillehammer|Cross Country Skiing|Cross Country Skiing Men's 10 km           |1994|Winter|21.22|\n",
      "|6  |Per Knut Aaland         |M  |33.0|188.0 |75.0  |United States |1994 Winter|Lillehammer|Cross Country Skiing|Cross Country Skiing Men's 30 km           |1994|Winter|21.22|\n",
      "|6  |Per Knut Aaland         |M  |33.0|188.0 |75.0  |United States |1994 Winter|Lillehammer|Cross Country Skiing|Cross Country Skiing Men's 10/15 km Pursuit|1994|Winter|21.22|\n",
      "|6  |Per Knut Aaland         |M  |33.0|188.0 |75.0  |United States |1994 Winter|Lillehammer|Cross Country Skiing|Cross Country Skiing Men's 4 x 10 km Relay |1994|Winter|21.22|\n",
      "|7  |John Aalberg            |M  |31.0|183.0 |72.0  |United States |1992 Winter|Albertville|Cross Country Skiing|Cross Country Skiing Men's 10 km           |1992|Winter|21.5 |\n",
      "|7  |John Aalberg            |M  |31.0|183.0 |72.0  |United States |1992 Winter|Albertville|Cross Country Skiing|Cross Country Skiing Men's 50 km           |1992|Winter|21.5 |\n",
      "+---+------------------------+---+----+------+------+--------------+-----------+-----------+--------------------+-------------------------------------------+----+------+-----+\n",
      "only showing top 20 rows\n",
      "\n",
      "+---+-------------------------+--------------+-----------+-------------+---------------------------------------------+------+\n",
      "|ID |Name                     |Team          |Games      |Sport        |Event                                        |Medal |\n",
      "+---+-------------------------+--------------+-----------+-------------+---------------------------------------------+------+\n",
      "|4  |Edgar Lindenau Aabye     |Denmark/Sweden|1900 Summer|Tug-Of-War   |Tug-Of-War Men's Tug-Of-War                  |Gold  |\n",
      "|15 |Arvo Ossian Aaltonen     |Finland       |1920 Summer|Swimming     |Swimming Men's 200 metres Breaststroke       |Bronze|\n",
      "|15 |Arvo Ossian Aaltonen     |Finland       |1920 Summer|Swimming     |Swimming Men's 400 metres Breaststroke       |Bronze|\n",
      "|16 |Juhamatti Tapio Aaltonen |Finland       |2014 Winter|Ice Hockey   |Ice Hockey Men's Ice Hockey                  |Bronze|\n",
      "|17 |Paavo Johannes Aaltonen  |Finland       |1948 Summer|Gymnastics   |Gymnastics Men's Individual All-Around       |Bronze|\n",
      "|17 |Paavo Johannes Aaltonen  |Finland       |1948 Summer|Gymnastics   |Gymnastics Men's Team All-Around             |Gold  |\n",
      "|17 |Paavo Johannes Aaltonen  |Finland       |1948 Summer|Gymnastics   |Gymnastics Men's Horse Vault                 |Gold  |\n",
      "|17 |Paavo Johannes Aaltonen  |Finland       |1948 Summer|Gymnastics   |Gymnastics Men's Pommelled Horse             |Gold  |\n",
      "|17 |Paavo Johannes Aaltonen  |Finland       |1952 Summer|Gymnastics   |Gymnastics Men's Team All-Around             |Bronze|\n",
      "|20 |Kjetil Andr Aamodt       |Norway        |1992 Winter|Alpine Skiing|Alpine Skiing Men's Super G                  |Gold  |\n",
      "|20 |Kjetil Andr Aamodt       |Norway        |1992 Winter|Alpine Skiing|Alpine Skiing Men's Giant Slalom             |Bronze|\n",
      "|20 |Kjetil Andr Aamodt       |Norway        |1994 Winter|Alpine Skiing|Alpine Skiing Men's Downhill                 |Silver|\n",
      "|20 |Kjetil Andr Aamodt       |Norway        |1994 Winter|Alpine Skiing|Alpine Skiing Men's Super G                  |Bronze|\n",
      "|20 |Kjetil Andr Aamodt       |Norway        |1994 Winter|Alpine Skiing|Alpine Skiing Men's Combined                 |Silver|\n",
      "|20 |Kjetil Andr Aamodt       |Norway        |2002 Winter|Alpine Skiing|Alpine Skiing Men's Super G                  |Gold  |\n",
      "|20 |Kjetil Andr Aamodt       |Norway        |2002 Winter|Alpine Skiing|Alpine Skiing Men's Combined                 |Gold  |\n",
      "|20 |Kjetil Andr Aamodt       |Norway        |2006 Winter|Alpine Skiing|Alpine Skiing Men's Super G                  |Gold  |\n",
      "|21 |Ragnhild Margrethe Aamodt|Norway        |2008 Summer|Handball     |Handball Women's Handball                    |Gold  |\n",
      "|25 |Alf Lied Aanning         |Norway        |1920 Summer|Gymnastics   |Gymnastics Men's Team All-Around, Free System|Silver|\n",
      "|29 |Willemien Aardenburg     |Netherlands   |1988 Summer|Hockey       |Hockey Women's Hockey                        |Bronze|\n",
      "+---+-------------------------+--------------+-----------+-------------+---------------------------------------------+------+\n",
      "only showing top 20 rows\n",
      "\n",
      "+---+--------------+--------------------+\n",
      "|NOC|region        |notes               |\n",
      "+---+--------------+--------------------+\n",
      "|AFG|Afghanistan   |null                |\n",
      "|AHO|Curacao       |Netherlands Antilles|\n",
      "|ALB|Albania       |null                |\n",
      "|ALG|Algeria       |null                |\n",
      "|AND|Andorra       |null                |\n",
      "|ANG|Angola        |null                |\n",
      "|ANT|Antigua       |Antigua and Barbuda |\n",
      "|ANZ|Australia     |Australasia         |\n",
      "|ARG|Argentina     |null                |\n",
      "|ARM|Armenia       |null                |\n",
      "|ARU|Aruba         |null                |\n",
      "|ASA|American Samoa|null                |\n",
      "|AUS|Australia     |null                |\n",
      "|AUT|Austria       |null                |\n",
      "|AZE|Azerbaijan    |null                |\n",
      "|BAH|Bahamas       |null                |\n",
      "|BAN|Bangladesh    |null                |\n",
      "|BAR|Barbados      |null                |\n",
      "|BDI|Burundi       |null                |\n",
      "|BEL|Belgium       |null                |\n",
      "+---+--------------+--------------------+\n",
      "only showing top 20 rows\n",
      "\n"
     ]
    }
   ],
   "source": [
    "# -----------------  INTO HIVE    ---------------------------------\n",
    "spark.sql(\"CREATE DATABASE IF NOT EXISTS project\")\n",
    "\n",
    "spark.sql(\"USE project\")\n",
    "\n",
    "spark.sql(\"DROP TABLE IF EXISTS athlete_events\")\n",
    "spark.sql(\"DROP TABLE IF EXISTS winners\")\n",
    "spark.sql(\"DROP TABLE IF EXISTS noc\")\n",
    "\n",
    "# ORC table\n",
    "df_athlete.write.mode('overwrite').format(\"orc\").saveAsTable(\"athlete_events\")\n",
    "df_winners.write.mode('overwrite').format(\"orc\").saveAsTable(\"winners\")\n",
    "df_noc.write.mode('overwrite').format(\"orc\").saveAsTable(\"noc\")\n",
    "\n",
    "\n",
    "\n",
    "spark.sql(\"SELECT * FROM athlete_events\").show(truncate=False)\n",
    "spark.sql(\"SELECT * FROM winners\").show(truncate=False)\n",
    "spark.sql(\"SELECT * FROM noc\").show(truncate=False)"
   ]
  },
  {
   "cell_type": "code",
   "execution_count": null,
   "id": "cdfcd1bf",
   "metadata": {},
   "outputs": [],
   "source": []
  }
 ],
 "metadata": {
  "kernelspec": {
   "display_name": "Python 3",
   "language": "python",
   "name": "python3"
  },
  "language_info": {
   "codemirror_mode": {
    "name": "ipython",
    "version": 3
   },
   "file_extension": ".py",
   "mimetype": "text/x-python",
   "name": "python",
   "nbconvert_exporter": "python",
   "pygments_lexer": "ipython3",
   "version": "3.6.9"
  }
 },
 "nbformat": 4,
 "nbformat_minor": 5
}
